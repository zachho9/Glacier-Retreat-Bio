{
 "cells": [
  {
   "cell_type": "code",
   "execution_count": 1,
   "id": "873d51ee-b8b3-4130-8508-b6b93f26bd56",
   "metadata": {},
   "outputs": [],
   "source": [
    "import pandas as pd\n",
    "import numpy as np\n",
    "import geopandas as gpd"
   ]
  },
  {
   "cell_type": "markdown",
   "id": "d7815ace-1f64-418f-9ea7-e7d5a19716e3",
   "metadata": {},
   "source": [
    "# WGMS"
   ]
  },
  {
   "cell_type": "markdown",
   "id": "e3bcc870-ee38-433e-972e-5fc92383f07b",
   "metadata": {},
   "source": [
    "## 1. GLACIER\n",
    "General (and presumably static) information about each glacier"
   ]
  },
  {
   "cell_type": "code",
   "execution_count": 2,
   "id": "f7ffee7e-3dbb-480c-93c6-051251768fe5",
   "metadata": {},
   "outputs": [
    {
     "name": "stderr",
     "output_type": "stream",
     "text": [
      "C:\\Users\\Zach\\AppData\\Local\\Temp\\ipykernel_3492\\3864064715.py:1: DtypeWarning: Columns (3,4,10,11,13) have mixed types. Specify dtype option on import or set low_memory=False.\n",
      "  glacier = pd.read_csv(\"data/wgms/glacier.csv\")\n"
     ]
    },
    {
     "data": {
      "text/html": [
       "<div>\n",
       "<style scoped>\n",
       "    .dataframe tbody tr th:only-of-type {\n",
       "        vertical-align: middle;\n",
       "    }\n",
       "\n",
       "    .dataframe tbody tr th {\n",
       "        vertical-align: top;\n",
       "    }\n",
       "\n",
       "    .dataframe thead th {\n",
       "        text-align: right;\n",
       "    }\n",
       "</style>\n",
       "<table border=\"1\" class=\"dataframe\">\n",
       "  <thead>\n",
       "    <tr style=\"text-align: right;\">\n",
       "      <th></th>\n",
       "      <th>NAME</th>\n",
       "      <th>WGMS_ID</th>\n",
       "      <th>LATITUDE</th>\n",
       "      <th>LONGITUDE</th>\n",
       "    </tr>\n",
       "  </thead>\n",
       "  <tbody>\n",
       "    <tr>\n",
       "      <th>158448</th>\n",
       "      <td>ABEL</td>\n",
       "      <td>1546</td>\n",
       "      <td>-43.320000</td>\n",
       "      <td>170.630005</td>\n",
       "    </tr>\n",
       "    <tr>\n",
       "      <th>158449</th>\n",
       "      <td>ADAMS</td>\n",
       "      <td>2923</td>\n",
       "      <td>-43.320000</td>\n",
       "      <td>170.720001</td>\n",
       "    </tr>\n",
       "    <tr>\n",
       "      <th>158450</th>\n",
       "      <td>AILSA</td>\n",
       "      <td>2924</td>\n",
       "      <td>-44.786100</td>\n",
       "      <td>168.187000</td>\n",
       "    </tr>\n",
       "    <tr>\n",
       "      <th>158451</th>\n",
       "      <td>ALMER/SALISBURY</td>\n",
       "      <td>1548</td>\n",
       "      <td>-43.470001</td>\n",
       "      <td>170.220001</td>\n",
       "    </tr>\n",
       "    <tr>\n",
       "      <th>158452</th>\n",
       "      <td>ANDY</td>\n",
       "      <td>1590</td>\n",
       "      <td>-44.430000</td>\n",
       "      <td>168.369995</td>\n",
       "    </tr>\n",
       "  </tbody>\n",
       "</table>\n",
       "</div>"
      ],
      "text/plain": [
       "                   NAME  WGMS_ID   LATITUDE   LONGITUDE\n",
       "158448             ABEL     1546 -43.320000  170.630005\n",
       "158449            ADAMS     2923 -43.320000  170.720001\n",
       "158450            AILSA     2924 -44.786100  168.187000\n",
       "158451  ALMER/SALISBURY     1548 -43.470001  170.220001\n",
       "158452             ANDY     1590 -44.430000  168.369995"
      ]
     },
     "execution_count": 2,
     "metadata": {},
     "output_type": "execute_result"
    }
   ],
   "source": [
    "glacier = pd.read_csv(\"data/wgms/glacier.csv\")\n",
    "\n",
    "glacier_nz = glacier[glacier[\"POLITICAL_UNIT\"] == \"NZ\"]\n",
    "\n",
    "glacier_nz_drop = glacier_nz.drop([\"POLITICAL_UNIT\", \"REMARKS\", \"GLACIER_REGION_CODE\", \"GLACIER_SUBREGION_CODE\",\n",
    "                                  \"GEN_LOCATION\", \"SPEC_LOCATION\", \"PARENT_GLACIER\",\n",
    "                                  \"PRIM_CLASSIFIC\", \"FORM\", \"FRONTAL_CHARS\", \"EXPOS_ACC_AREA\", \"EXPOS_ABL_AREA\"], axis=1)\n",
    "glacier_nz_drop.head()"
   ]
  },
  {
   "cell_type": "code",
   "execution_count": 3,
   "id": "1fb66d11-0901-459c-9fcb-cb0a50ac2f70",
   "metadata": {},
   "outputs": [
    {
     "name": "stdout",
     "output_type": "stream",
     "text": [
      "<class 'pandas.core.frame.DataFrame'>\n",
      "Index: 2869 entries, 158448 to 161316\n",
      "Data columns (total 4 columns):\n",
      " #   Column     Non-Null Count  Dtype  \n",
      "---  ------     --------------  -----  \n",
      " 0   NAME       2869 non-null   object \n",
      " 1   WGMS_ID    2869 non-null   int64  \n",
      " 2   LATITUDE   2869 non-null   float64\n",
      " 3   LONGITUDE  2869 non-null   float64\n",
      "dtypes: float64(2), int64(1), object(1)\n",
      "memory usage: 112.1+ KB\n"
     ]
    }
   ],
   "source": [
    "glacier_nz_drop.info()"
   ]
  },
  {
   "cell_type": "markdown",
   "id": "7b35b54a-2023-4a84-b32d-86f34455e695",
   "metadata": {},
   "source": [
    "## 2. CHANGE\n",
    "Change in glacier thickness, area, and/or volume – typically from geodetic surveys\n",
    "\n"
   ]
  },
  {
   "cell_type": "code",
   "execution_count": 4,
   "id": "7c23aaff-c8ef-42ef-b4f8-a157443cc500",
   "metadata": {},
   "outputs": [
    {
     "data": {
      "text/html": [
       "<div>\n",
       "<style scoped>\n",
       "    .dataframe tbody tr th:only-of-type {\n",
       "        vertical-align: middle;\n",
       "    }\n",
       "\n",
       "    .dataframe tbody tr th {\n",
       "        vertical-align: top;\n",
       "    }\n",
       "\n",
       "    .dataframe thead th {\n",
       "        text-align: right;\n",
       "    }\n",
       "</style>\n",
       "<table border=\"1\" class=\"dataframe\">\n",
       "  <thead>\n",
       "    <tr style=\"text-align: right;\">\n",
       "      <th></th>\n",
       "      <th>WGMS_ID</th>\n",
       "      <th>CHANGE_YEAR</th>\n",
       "      <th>SURVEY_DATE</th>\n",
       "      <th>THICKNESS_CHG</th>\n",
       "      <th>VOLUME_CHANGE</th>\n",
       "    </tr>\n",
       "  </thead>\n",
       "  <tbody>\n",
       "    <tr>\n",
       "      <th>814867</th>\n",
       "      <td>2923</td>\n",
       "      <td>2013</td>\n",
       "      <td>20130228</td>\n",
       "      <td>5913.0</td>\n",
       "      <td>NaN</td>\n",
       "    </tr>\n",
       "    <tr>\n",
       "      <th>814868</th>\n",
       "      <td>2923</td>\n",
       "      <td>2018</td>\n",
       "      <td>20180307</td>\n",
       "      <td>-14433.0</td>\n",
       "      <td>NaN</td>\n",
       "    </tr>\n",
       "    <tr>\n",
       "      <th>814869</th>\n",
       "      <td>2923</td>\n",
       "      <td>2018</td>\n",
       "      <td>20180307</td>\n",
       "      <td>-13184.0</td>\n",
       "      <td>NaN</td>\n",
       "    </tr>\n",
       "    <tr>\n",
       "      <th>814870</th>\n",
       "      <td>2923</td>\n",
       "      <td>2014</td>\n",
       "      <td>20140224</td>\n",
       "      <td>-7845.0</td>\n",
       "      <td>NaN</td>\n",
       "    </tr>\n",
       "    <tr>\n",
       "      <th>814871</th>\n",
       "      <td>2923</td>\n",
       "      <td>2017</td>\n",
       "      <td>20170304</td>\n",
       "      <td>-7478.0</td>\n",
       "      <td>NaN</td>\n",
       "    </tr>\n",
       "  </tbody>\n",
       "</table>\n",
       "</div>"
      ],
      "text/plain": [
       "        WGMS_ID  CHANGE_YEAR  SURVEY_DATE  THICKNESS_CHG  VOLUME_CHANGE\n",
       "814867     2923         2013     20130228         5913.0            NaN\n",
       "814868     2923         2018     20180307       -14433.0            NaN\n",
       "814869     2923         2018     20180307       -13184.0            NaN\n",
       "814870     2923         2014     20140224        -7845.0            NaN\n",
       "814871     2923         2017     20170304        -7478.0            NaN"
      ]
     },
     "execution_count": 4,
     "metadata": {},
     "output_type": "execute_result"
    }
   ],
   "source": [
    "change = pd.read_csv(\"data/wgms/change.csv\")\n",
    "\n",
    "change_nz = change[change[\"POLITICAL_UNIT\"] == \"NZ\"]\n",
    "\n",
    "change_nz_drop = change_nz.drop([\"POLITICAL_UNIT\",\n",
    "                                 \"NAME\",\n",
    "                                 \"SURVEY_ID\",\n",
    "                                 # \"SURVEY_DATE\",\n",
    "                                 \"REFERENCE_DATE\",\n",
    "                                 \"LOWER_BOUND\",\n",
    "                                 \"UPPER_BOUND\",\n",
    "                                 \"AREA_CHANGE\",  # all NaN\n",
    "                                 \"AREA_CHANGE_UNC\",\n",
    "                                 \"AREA_SURVEY_YEAR\",\n",
    "                                 \"THICKNESS_CHG_UNC\",\n",
    "                                 \"VOLUME_CHANGE_UNC\",\n",
    "                                 \"SD_PLATFORM_METHOD\",\n",
    "                                 \"RD_PLATFORM_METHOD\",\n",
    "                                 \"INVESTIGATOR\",\n",
    "                                 \"SPONS_AGENCY\",\n",
    "                                 \"REFERENCE\",\n",
    "                                 \"REMARKS\"], axis=1)\n",
    "change_nz_drop.rename(columns = {'YEAR':'CHANGE_YEAR'}, inplace = True)\n",
    "change_nz_drop.head()"
   ]
  },
  {
   "cell_type": "code",
   "execution_count": 5,
   "id": "3a434e1e-57df-473b-9e59-fe052b8fd097",
   "metadata": {},
   "outputs": [
    {
     "data": {
      "text/plain": [
       "CHANGE_YEAR\n",
       "2017    6998\n",
       "2015    6584\n",
       "2014    6162\n",
       "2016    5848\n",
       "2019    5516\n",
       "2012    3764\n",
       "2013    3107\n",
       "2009    2853\n",
       "2004    2758\n",
       "2018     940\n",
       "2011     720\n",
       "2010     393\n",
       "Name: count, dtype: int64"
      ]
     },
     "execution_count": 5,
     "metadata": {},
     "output_type": "execute_result"
    }
   ],
   "source": [
    "change_nz_drop[\"CHANGE_YEAR\"].value_counts()"
   ]
  },
  {
   "cell_type": "code",
   "execution_count": 6,
   "id": "926c5281-a522-49ab-b35f-5713ff204308",
   "metadata": {},
   "outputs": [
    {
     "data": {
      "text/plain": [
       "2767"
      ]
     },
     "execution_count": 6,
     "metadata": {},
     "output_type": "execute_result"
    }
   ],
   "source": [
    "change_nz_drop[change_nz_drop['CHANGE_YEAR'] == 2009][\"WGMS_ID\"].nunique()"
   ]
  },
  {
   "cell_type": "code",
   "execution_count": 7,
   "id": "40637623-b979-469d-a325-e5f5fd64fd31",
   "metadata": {},
   "outputs": [
    {
     "data": {
      "text/plain": [
       "2758"
      ]
     },
     "execution_count": 7,
     "metadata": {},
     "output_type": "execute_result"
    }
   ],
   "source": [
    "change_nz_drop[change_nz_drop['CHANGE_YEAR'] == 2019][\"WGMS_ID\"].nunique()"
   ]
  },
  {
   "cell_type": "code",
   "execution_count": null,
   "id": "f5dd13a6-0946-42ff-972c-76e3bc1b03b4",
   "metadata": {},
   "outputs": [],
   "source": []
  },
  {
   "cell_type": "code",
   "execution_count": null,
   "id": "19cbc83e-6ebe-4fe1-867b-bd5d67bcd50d",
   "metadata": {},
   "outputs": [],
   "source": []
  },
  {
   "cell_type": "code",
   "execution_count": 13,
   "id": "e6ae3228-27e9-42c9-9165-0688e8061f18",
   "metadata": {},
   "outputs": [
    {
     "data": {
      "text/html": [
       "<div>\n",
       "<style scoped>\n",
       "    .dataframe tbody tr th:only-of-type {\n",
       "        vertical-align: middle;\n",
       "    }\n",
       "\n",
       "    .dataframe tbody tr th {\n",
       "        vertical-align: top;\n",
       "    }\n",
       "\n",
       "    .dataframe thead th {\n",
       "        text-align: right;\n",
       "    }\n",
       "</style>\n",
       "<table border=\"1\" class=\"dataframe\">\n",
       "  <thead>\n",
       "    <tr style=\"text-align: right;\">\n",
       "      <th></th>\n",
       "      <th>WGMS_ID</th>\n",
       "      <th>FRONT_VARIATION_YEAR</th>\n",
       "      <th>SURVEY_DATE</th>\n",
       "      <th>REFERENCE_DATE</th>\n",
       "      <th>FRONT_VARIATION</th>\n",
       "      <th>QUALITATIVE_VARIATION</th>\n",
       "    </tr>\n",
       "  </thead>\n",
       "  <tbody>\n",
       "    <tr>\n",
       "      <th>41300</th>\n",
       "      <td>1546</td>\n",
       "      <td>1993</td>\n",
       "      <td>19930215</td>\n",
       "      <td>19890401.0</td>\n",
       "      <td>NaN</td>\n",
       "      <td>+X</td>\n",
       "    </tr>\n",
       "    <tr>\n",
       "      <th>41301</th>\n",
       "      <td>1546</td>\n",
       "      <td>1994</td>\n",
       "      <td>19940310</td>\n",
       "      <td>19930215.0</td>\n",
       "      <td>NaN</td>\n",
       "      <td>ST</td>\n",
       "    </tr>\n",
       "    <tr>\n",
       "      <th>41302</th>\n",
       "      <td>1546</td>\n",
       "      <td>1995</td>\n",
       "      <td>19950304</td>\n",
       "      <td>19940310.0</td>\n",
       "      <td>NaN</td>\n",
       "      <td>ST</td>\n",
       "    </tr>\n",
       "    <tr>\n",
       "      <th>41303</th>\n",
       "      <td>2923</td>\n",
       "      <td>1992</td>\n",
       "      <td>19920407</td>\n",
       "      <td>19870306.0</td>\n",
       "      <td>NaN</td>\n",
       "      <td>-X</td>\n",
       "    </tr>\n",
       "    <tr>\n",
       "      <th>41304</th>\n",
       "      <td>2923</td>\n",
       "      <td>1993</td>\n",
       "      <td>19930215</td>\n",
       "      <td>19920407.0</td>\n",
       "      <td>NaN</td>\n",
       "      <td>-X</td>\n",
       "    </tr>\n",
       "  </tbody>\n",
       "</table>\n",
       "</div>"
      ],
      "text/plain": [
       "       WGMS_ID  FRONT_VARIATION_YEAR  SURVEY_DATE  REFERENCE_DATE  \\\n",
       "41300     1546                  1993     19930215      19890401.0   \n",
       "41301     1546                  1994     19940310      19930215.0   \n",
       "41302     1546                  1995     19950304      19940310.0   \n",
       "41303     2923                  1992     19920407      19870306.0   \n",
       "41304     2923                  1993     19930215      19920407.0   \n",
       "\n",
       "       FRONT_VARIATION QUALITATIVE_VARIATION  \n",
       "41300              NaN                    +X  \n",
       "41301              NaN                    ST  \n",
       "41302              NaN                    ST  \n",
       "41303              NaN                    -X  \n",
       "41304              NaN                    -X  "
      ]
     },
     "execution_count": 13,
     "metadata": {},
     "output_type": "execute_result"
    }
   ],
   "source": [
    "front_variation = pd.read_csv(\"data/wgms/front_variation.csv\")\n",
    "\n",
    "front_variation_nz = front_variation[front_variation[\"POLITICAL_UNIT\"] == \"NZ\"]\n",
    "\n",
    "front_variation_nz_drop = front_variation_nz.drop([\"FRONT_VAR_UNC\", \n",
    "                                                   \"SURVEY_PLATFORM_METHOD\", \n",
    "                                                   \"INVESTIGATOR\", \n",
    "                                                   \"SPONS_AGENCY\", \n",
    "                                                   \"REFERENCE\", \n",
    "                                                   \"REMARKS\",\n",
    "                                                   \"POLITICAL_UNIT\",\n",
    "                                                   \"NAME\"], axis=1)\n",
    "front_variation_nz_drop.rename(columns = {'YEAR':'FRONT_VARIATION_YEAR'}, inplace = True)\n",
    "front_variation_nz_drop.head()"
   ]
  },
  {
   "cell_type": "code",
   "execution_count": 14,
   "id": "96e3ede3-aced-41c5-8ed8-d41a40000a95",
   "metadata": {},
   "outputs": [
    {
     "data": {
      "text/plain": [
       "70"
      ]
     },
     "execution_count": 14,
     "metadata": {},
     "output_type": "execute_result"
    }
   ],
   "source": [
    "tmp = front_variation_nz_drop[front_variation_nz_drop[\"QUALITATIVE_VARIATION\"] == \"ST\"]\n",
    "tmp[\"WGMS_ID\"].nunique()"
   ]
  },
  {
   "cell_type": "code",
   "execution_count": 15,
   "id": "e80b5784-ac6f-44c0-961e-e34972b828cc",
   "metadata": {},
   "outputs": [
    {
     "data": {
      "text/html": [
       "<div>\n",
       "<style scoped>\n",
       "    .dataframe tbody tr th:only-of-type {\n",
       "        vertical-align: middle;\n",
       "    }\n",
       "\n",
       "    .dataframe tbody tr th {\n",
       "        vertical-align: top;\n",
       "    }\n",
       "\n",
       "    .dataframe thead th {\n",
       "        text-align: right;\n",
       "    }\n",
       "</style>\n",
       "<table border=\"1\" class=\"dataframe\">\n",
       "  <thead>\n",
       "    <tr style=\"text-align: right;\">\n",
       "      <th></th>\n",
       "      <th>WGMS_ID</th>\n",
       "      <th>MASS_BALANCE_YEAR</th>\n",
       "      <th>MASS_BALANCE_YEAR_AREA</th>\n",
       "      <th>WINTER_BALANCE</th>\n",
       "      <th>SUMMER_BALANCE</th>\n",
       "      <th>ANNUAL_BALANCE</th>\n",
       "    </tr>\n",
       "  </thead>\n",
       "  <tbody>\n",
       "    <tr>\n",
       "      <th>44238</th>\n",
       "      <td>1597</td>\n",
       "      <td>2005</td>\n",
       "      <td>2.03</td>\n",
       "      <td>2875.0</td>\n",
       "      <td>-1499.0</td>\n",
       "      <td>1376.0</td>\n",
       "    </tr>\n",
       "    <tr>\n",
       "      <th>44239</th>\n",
       "      <td>1597</td>\n",
       "      <td>2006</td>\n",
       "      <td>2.03</td>\n",
       "      <td>2248.0</td>\n",
       "      <td>-1557.0</td>\n",
       "      <td>691.0</td>\n",
       "    </tr>\n",
       "    <tr>\n",
       "      <th>44240</th>\n",
       "      <td>1597</td>\n",
       "      <td>2007</td>\n",
       "      <td>2.03</td>\n",
       "      <td>3039.0</td>\n",
       "      <td>-2347.0</td>\n",
       "      <td>692.0</td>\n",
       "    </tr>\n",
       "    <tr>\n",
       "      <th>44241</th>\n",
       "      <td>1597</td>\n",
       "      <td>2008</td>\n",
       "      <td>2.03</td>\n",
       "      <td>2392.0</td>\n",
       "      <td>-4090.0</td>\n",
       "      <td>-1698.0</td>\n",
       "    </tr>\n",
       "    <tr>\n",
       "      <th>44242</th>\n",
       "      <td>1597</td>\n",
       "      <td>2009</td>\n",
       "      <td>2.03</td>\n",
       "      <td>1975.0</td>\n",
       "      <td>-2677.0</td>\n",
       "      <td>-702.0</td>\n",
       "    </tr>\n",
       "  </tbody>\n",
       "</table>\n",
       "</div>"
      ],
      "text/plain": [
       "       WGMS_ID  MASS_BALANCE_YEAR  MASS_BALANCE_YEAR_AREA  WINTER_BALANCE  \\\n",
       "44238     1597               2005                    2.03          2875.0   \n",
       "44239     1597               2006                    2.03          2248.0   \n",
       "44240     1597               2007                    2.03          3039.0   \n",
       "44241     1597               2008                    2.03          2392.0   \n",
       "44242     1597               2009                    2.03          1975.0   \n",
       "\n",
       "       SUMMER_BALANCE  ANNUAL_BALANCE  \n",
       "44238         -1499.0          1376.0  \n",
       "44239         -1557.0           691.0  \n",
       "44240         -2347.0           692.0  \n",
       "44241         -4090.0         -1698.0  \n",
       "44242         -2677.0          -702.0  "
      ]
     },
     "execution_count": 15,
     "metadata": {},
     "output_type": "execute_result"
    }
   ],
   "source": [
    "mass_balance = pd.read_csv(\"data/wgms/mass_balance.csv\")\n",
    "\n",
    "mass_balance_nz = mass_balance[mass_balance[\"POLITICAL_UNIT\"] == \"NZ\"]\n",
    "\n",
    "mass_balance_nz_drop = mass_balance_nz.drop([\"LOWER_BOUND\", \n",
    "                                             \"UPPER_BOUND\", \n",
    "                                             \"WINTER_BALANCE_UNC\", \n",
    "                                             \"SUMMER_BALANCE_UNC\", \n",
    "                                             \"ANNUAL_BALANCE_UNC\",\n",
    "                                             \"REMARKS\",\n",
    "                                             \"POLITICAL_UNIT\",\n",
    "                                             \"NAME\"], axis=1)\n",
    "mass_balance_nz_drop.rename(columns = {'YEAR':'MASS_BALANCE_YEAR', 'AREA':'MASS_BALANCE_YEAR_AREA'}, inplace = True)\n",
    "mass_balance_nz_drop.head()"
   ]
  },
  {
   "cell_type": "code",
   "execution_count": 16,
   "id": "cae533b3-520e-47bc-9596-c61030ca1e19",
   "metadata": {},
   "outputs": [
    {
     "data": {
      "text/html": [
       "<div>\n",
       "<style scoped>\n",
       "    .dataframe tbody tr th:only-of-type {\n",
       "        vertical-align: middle;\n",
       "    }\n",
       "\n",
       "    .dataframe tbody tr th {\n",
       "        vertical-align: top;\n",
       "    }\n",
       "\n",
       "    .dataframe thead th {\n",
       "        text-align: right;\n",
       "    }\n",
       "</style>\n",
       "<table border=\"1\" class=\"dataframe\">\n",
       "  <thead>\n",
       "    <tr style=\"text-align: right;\">\n",
       "      <th></th>\n",
       "      <th>WGMS_ID</th>\n",
       "      <th>EVENT_DATE</th>\n",
       "      <th>ET_SURGE</th>\n",
       "      <th>ET_CALVING</th>\n",
       "      <th>ET_FLOOD</th>\n",
       "      <th>ET_AVALANCHE</th>\n",
       "      <th>ET_TECTONIC</th>\n",
       "      <th>ET_OTHER</th>\n",
       "      <th>EVENT_DESCRIPTION</th>\n",
       "    </tr>\n",
       "  </thead>\n",
       "  <tbody>\n",
       "    <tr>\n",
       "      <th>2906</th>\n",
       "      <td>1580</td>\n",
       "      <td>19920502.0</td>\n",
       "      <td>False</td>\n",
       "      <td>False</td>\n",
       "      <td>False</td>\n",
       "      <td>False</td>\n",
       "      <td>False</td>\n",
       "      <td>True</td>\n",
       "      <td>The rock avalanche, inspected on 5 May 1992, r...</td>\n",
       "    </tr>\n",
       "    <tr>\n",
       "      <th>2907</th>\n",
       "      <td>1580</td>\n",
       "      <td>19920916.0</td>\n",
       "      <td>False</td>\n",
       "      <td>False</td>\n",
       "      <td>False</td>\n",
       "      <td>False</td>\n",
       "      <td>False</td>\n",
       "      <td>True</td>\n",
       "      <td>The rock avalanche, inspected on 20 September ...</td>\n",
       "    </tr>\n",
       "    <tr>\n",
       "      <th>2908</th>\n",
       "      <td>1074</td>\n",
       "      <td>19911214.0</td>\n",
       "      <td>False</td>\n",
       "      <td>False</td>\n",
       "      <td>False</td>\n",
       "      <td>False</td>\n",
       "      <td>True</td>\n",
       "      <td>True</td>\n",
       "      <td>Mount Cook Rock Avalanche occurred on 14 Decem...</td>\n",
       "    </tr>\n",
       "    <tr>\n",
       "      <th>2909</th>\n",
       "      <td>1074</td>\n",
       "      <td>19949999.0</td>\n",
       "      <td>False</td>\n",
       "      <td>False</td>\n",
       "      <td>False</td>\n",
       "      <td>False</td>\n",
       "      <td>False</td>\n",
       "      <td>True</td>\n",
       "      <td>During a storm of January 1994, the river brea...</td>\n",
       "    </tr>\n",
       "  </tbody>\n",
       "</table>\n",
       "</div>"
      ],
      "text/plain": [
       "      WGMS_ID  EVENT_DATE  ET_SURGE  ET_CALVING  ET_FLOOD  ET_AVALANCHE  \\\n",
       "2906     1580  19920502.0     False       False     False         False   \n",
       "2907     1580  19920916.0     False       False     False         False   \n",
       "2908     1074  19911214.0     False       False     False         False   \n",
       "2909     1074  19949999.0     False       False     False         False   \n",
       "\n",
       "      ET_TECTONIC  ET_OTHER                                  EVENT_DESCRIPTION  \n",
       "2906        False      True  The rock avalanche, inspected on 5 May 1992, r...  \n",
       "2907        False      True  The rock avalanche, inspected on 20 September ...  \n",
       "2908         True      True  Mount Cook Rock Avalanche occurred on 14 Decem...  \n",
       "2909        False      True  During a storm of January 1994, the river brea...  "
      ]
     },
     "execution_count": 16,
     "metadata": {},
     "output_type": "execute_result"
    }
   ],
   "source": [
    "special_event = pd.read_csv(\"data/wgms/special_event.csv\")\n",
    "\n",
    "special_event_nz = special_event[special_event[\"POLITICAL_UNIT\"] == \"NZ\"]\n",
    "\n",
    "special_event_nz_drop = special_event_nz.drop([\"INVESTIGATOR\", \n",
    "                                               \"SPONS_AGENCY\", \n",
    "                                               \"REFERENCE\", \n",
    "                                               \"REMARKS\",\n",
    "                                               \"POLITICAL_UNIT\",\n",
    "                                               \"NAME\",\n",
    "                                               \"EVENT_ID\"], axis=1)\n",
    "special_event_nz_drop.head()"
   ]
  },
  {
   "cell_type": "code",
   "execution_count": 17,
   "id": "c20e735c-6b64-48b8-8cb7-bba70f9cbe17",
   "metadata": {},
   "outputs": [
    {
     "data": {
      "text/html": [
       "<div>\n",
       "<style scoped>\n",
       "    .dataframe tbody tr th:only-of-type {\n",
       "        vertical-align: middle;\n",
       "    }\n",
       "\n",
       "    .dataframe tbody tr th {\n",
       "        vertical-align: top;\n",
       "    }\n",
       "\n",
       "    .dataframe thead th {\n",
       "        text-align: right;\n",
       "    }\n",
       "</style>\n",
       "<table border=\"1\" class=\"dataframe\">\n",
       "  <thead>\n",
       "    <tr style=\"text-align: right;\">\n",
       "      <th></th>\n",
       "      <th>WGMS_ID</th>\n",
       "      <th>REC_SERIES_ID</th>\n",
       "      <th>RECONSTRUCTION_FRONT_VARIATION_YEAR</th>\n",
       "      <th>REFERENCE_YEAR</th>\n",
       "      <th>FRONT_VARIATION</th>\n",
       "    </tr>\n",
       "  </thead>\n",
       "  <tbody>\n",
       "    <tr>\n",
       "      <th>1874</th>\n",
       "      <td>899</td>\n",
       "      <td>36</td>\n",
       "      <td>1780</td>\n",
       "      <td>1600.0</td>\n",
       "      <td>-560.0</td>\n",
       "    </tr>\n",
       "    <tr>\n",
       "      <th>1875</th>\n",
       "      <td>899</td>\n",
       "      <td>36</td>\n",
       "      <td>1820</td>\n",
       "      <td>1780.0</td>\n",
       "      <td>141.0</td>\n",
       "    </tr>\n",
       "    <tr>\n",
       "      <th>1876</th>\n",
       "      <td>899</td>\n",
       "      <td>36</td>\n",
       "      <td>1865</td>\n",
       "      <td>1820.0</td>\n",
       "      <td>-240.0</td>\n",
       "    </tr>\n",
       "    <tr>\n",
       "      <th>1877</th>\n",
       "      <td>899</td>\n",
       "      <td>36</td>\n",
       "      <td>1867</td>\n",
       "      <td>1865.0</td>\n",
       "      <td>-21.0</td>\n",
       "    </tr>\n",
       "    <tr>\n",
       "      <th>1878</th>\n",
       "      <td>899</td>\n",
       "      <td>36</td>\n",
       "      <td>1886</td>\n",
       "      <td>1867.0</td>\n",
       "      <td>-29.0</td>\n",
       "    </tr>\n",
       "  </tbody>\n",
       "</table>\n",
       "</div>"
      ],
      "text/plain": [
       "      WGMS_ID  REC_SERIES_ID  RECONSTRUCTION_FRONT_VARIATION_YEAR  \\\n",
       "1874      899             36                                 1780   \n",
       "1875      899             36                                 1820   \n",
       "1876      899             36                                 1865   \n",
       "1877      899             36                                 1867   \n",
       "1878      899             36                                 1886   \n",
       "\n",
       "      REFERENCE_YEAR  FRONT_VARIATION  \n",
       "1874          1600.0           -560.0  \n",
       "1875          1780.0            141.0  \n",
       "1876          1820.0           -240.0  \n",
       "1877          1865.0            -21.0  \n",
       "1878          1867.0            -29.0  "
      ]
     },
     "execution_count": 17,
     "metadata": {},
     "output_type": "execute_result"
    }
   ],
   "source": [
    "reconstruction_front_variation = pd.read_csv(\"data/wgms/reconstruction_front_variation.csv\")\n",
    "\n",
    "reconstruction_front_variation_nz = reconstruction_front_variation[reconstruction_front_variation[\"POLITICAL_UNIT\"] == \"NZ\"]\n",
    "\n",
    "reconstruction_front_variation_nz_drop = reconstruction_front_variation_nz.drop([\"YEAR_UNC\", \n",
    "                                                                                 \"REF_YEAR_UNC\", \n",
    "                                                                                 \"FRONT_VAR_POS_UNC\", \n",
    "                                                                                 \"FRONT_VAR_NEG_UNC\",\n",
    "                                                                                 \"ELEVATION_UNC\", \n",
    "                                                                                 \"METHOD_CODE\", \n",
    "                                                                                 \"METHOD_REMARKS\", \n",
    "                                                                                 \"REMARKS\", \n",
    "                                                                                 \"QUALITATIVE_VARIATION\",  # all NaN\n",
    "                                                                                 \"LOWEST_ELEVATION\", \n",
    "                                                                                 \"HIGHEST_ELEVATION\",\n",
    "                                                                                 \"MORAINE_DEFINED_MAX\",\n",
    "                                                                                 \"POLITICAL_UNIT\",\n",
    "                                                                                 \"NAME\"], axis=1)\n",
    "reconstruction_front_variation_nz_drop.rename(columns = {'YEAR':'RECONSTRUCTION_FRONT_VARIATION_YEAR'}, inplace = True)\n",
    "reconstruction_front_variation_nz_drop.head()"
   ]
  },
  {
   "cell_type": "markdown",
   "id": "7ff4cfd8-0098-4e27-8125-94e04a93fe49",
   "metadata": {},
   "source": [
    "## 3. Merge WGMS\n",
    "change and glacier"
   ]
  },
  {
   "cell_type": "code",
   "execution_count": 8,
   "id": "79b1f1c3-b688-4f4e-8602-e3d5d94cc0ae",
   "metadata": {},
   "outputs": [],
   "source": [
    "pd.set_option('display.max_columns', None)"
   ]
  },
  {
   "cell_type": "code",
   "execution_count": 10,
   "id": "7f868ce2-456f-40a7-a54d-f315b8e0e9e0",
   "metadata": {},
   "outputs": [
    {
     "data": {
      "text/html": [
       "<div>\n",
       "<style scoped>\n",
       "    .dataframe tbody tr th:only-of-type {\n",
       "        vertical-align: middle;\n",
       "    }\n",
       "\n",
       "    .dataframe tbody tr th {\n",
       "        vertical-align: top;\n",
       "    }\n",
       "\n",
       "    .dataframe thead th {\n",
       "        text-align: right;\n",
       "    }\n",
       "</style>\n",
       "<table border=\"1\" class=\"dataframe\">\n",
       "  <thead>\n",
       "    <tr style=\"text-align: right;\">\n",
       "      <th></th>\n",
       "      <th>WGMS_ID</th>\n",
       "      <th>CHANGE_YEAR</th>\n",
       "      <th>SURVEY_DATE</th>\n",
       "      <th>THICKNESS_CHG</th>\n",
       "      <th>VOLUME_CHANGE</th>\n",
       "      <th>NAME</th>\n",
       "      <th>LATITUDE</th>\n",
       "      <th>LONGITUDE</th>\n",
       "    </tr>\n",
       "  </thead>\n",
       "  <tbody>\n",
       "    <tr>\n",
       "      <th>0</th>\n",
       "      <td>2923</td>\n",
       "      <td>2013</td>\n",
       "      <td>20130228</td>\n",
       "      <td>5913.0</td>\n",
       "      <td>NaN</td>\n",
       "      <td>ADAMS</td>\n",
       "      <td>-43.32</td>\n",
       "      <td>170.720001</td>\n",
       "    </tr>\n",
       "    <tr>\n",
       "      <th>1</th>\n",
       "      <td>2923</td>\n",
       "      <td>2018</td>\n",
       "      <td>20180307</td>\n",
       "      <td>-14433.0</td>\n",
       "      <td>NaN</td>\n",
       "      <td>ADAMS</td>\n",
       "      <td>-43.32</td>\n",
       "      <td>170.720001</td>\n",
       "    </tr>\n",
       "    <tr>\n",
       "      <th>2</th>\n",
       "      <td>2923</td>\n",
       "      <td>2018</td>\n",
       "      <td>20180307</td>\n",
       "      <td>-13184.0</td>\n",
       "      <td>NaN</td>\n",
       "      <td>ADAMS</td>\n",
       "      <td>-43.32</td>\n",
       "      <td>170.720001</td>\n",
       "    </tr>\n",
       "    <tr>\n",
       "      <th>3</th>\n",
       "      <td>2923</td>\n",
       "      <td>2014</td>\n",
       "      <td>20140224</td>\n",
       "      <td>-7845.0</td>\n",
       "      <td>NaN</td>\n",
       "      <td>ADAMS</td>\n",
       "      <td>-43.32</td>\n",
       "      <td>170.720001</td>\n",
       "    </tr>\n",
       "    <tr>\n",
       "      <th>4</th>\n",
       "      <td>2923</td>\n",
       "      <td>2017</td>\n",
       "      <td>20170304</td>\n",
       "      <td>-7478.0</td>\n",
       "      <td>NaN</td>\n",
       "      <td>ADAMS</td>\n",
       "      <td>-43.32</td>\n",
       "      <td>170.720001</td>\n",
       "    </tr>\n",
       "  </tbody>\n",
       "</table>\n",
       "</div>"
      ],
      "text/plain": [
       "   WGMS_ID  CHANGE_YEAR  SURVEY_DATE  THICKNESS_CHG  VOLUME_CHANGE   NAME  \\\n",
       "0     2923         2013     20130228         5913.0            NaN  ADAMS   \n",
       "1     2923         2018     20180307       -14433.0            NaN  ADAMS   \n",
       "2     2923         2018     20180307       -13184.0            NaN  ADAMS   \n",
       "3     2923         2014     20140224        -7845.0            NaN  ADAMS   \n",
       "4     2923         2017     20170304        -7478.0            NaN  ADAMS   \n",
       "\n",
       "   LATITUDE   LONGITUDE  \n",
       "0    -43.32  170.720001  \n",
       "1    -43.32  170.720001  \n",
       "2    -43.32  170.720001  \n",
       "3    -43.32  170.720001  \n",
       "4    -43.32  170.720001  "
      ]
     },
     "execution_count": 10,
     "metadata": {},
     "output_type": "execute_result"
    }
   ],
   "source": [
    "merge_1 = pd.merge(change_nz_drop, glacier_nz_drop, how=\"left\", on=\"WGMS_ID\")\n",
    "merge_1.head()"
   ]
  },
  {
   "cell_type": "code",
   "execution_count": 11,
   "id": "cd35616b-8781-45c5-b0f4-916a5ba785a4",
   "metadata": {},
   "outputs": [],
   "source": [
    "merge_1.rename(columns={'THICKNESS_CHG': 'THICKNESS_CHANGE'}, inplace=True)"
   ]
  },
  {
   "cell_type": "code",
   "execution_count": 13,
   "id": "f0b40d21-fda2-4188-80d4-968399863be8",
   "metadata": {},
   "outputs": [],
   "source": [
    "merge_1 = merge_1.iloc[:,[0,5,1,2,3,4,6,7]]"
   ]
  },
  {
   "cell_type": "code",
   "execution_count": 14,
   "id": "b036e71a-5522-4eb9-81f7-2322aa2780fd",
   "metadata": {},
   "outputs": [
    {
     "name": "stdout",
     "output_type": "stream",
     "text": [
      "<class 'pandas.core.frame.DataFrame'>\n",
      "RangeIndex: 45643 entries, 0 to 45642\n",
      "Data columns (total 8 columns):\n",
      " #   Column            Non-Null Count  Dtype  \n",
      "---  ------            --------------  -----  \n",
      " 0   WGMS_ID           45643 non-null  int64  \n",
      " 1   NAME              45643 non-null  object \n",
      " 2   CHANGE_YEAR       45643 non-null  int64  \n",
      " 3   SURVEY_DATE       45643 non-null  int64  \n",
      " 4   THICKNESS_CHANGE  45643 non-null  float64\n",
      " 5   VOLUME_CHANGE     13790 non-null  float64\n",
      " 6   LATITUDE          45643 non-null  float64\n",
      " 7   LONGITUDE         45643 non-null  float64\n",
      "dtypes: float64(4), int64(3), object(1)\n",
      "memory usage: 2.8+ MB\n"
     ]
    }
   ],
   "source": [
    "merge_1.info()"
   ]
  },
  {
   "cell_type": "code",
   "execution_count": 15,
   "id": "5b97a4e8-127d-4507-866a-0a2f92801274",
   "metadata": {},
   "outputs": [
    {
     "data": {
      "text/html": [
       "<div>\n",
       "<style scoped>\n",
       "    .dataframe tbody tr th:only-of-type {\n",
       "        vertical-align: middle;\n",
       "    }\n",
       "\n",
       "    .dataframe tbody tr th {\n",
       "        vertical-align: top;\n",
       "    }\n",
       "\n",
       "    .dataframe thead th {\n",
       "        text-align: right;\n",
       "    }\n",
       "</style>\n",
       "<table border=\"1\" class=\"dataframe\">\n",
       "  <thead>\n",
       "    <tr style=\"text-align: right;\">\n",
       "      <th></th>\n",
       "      <th>WGMS_ID</th>\n",
       "      <th>NAME</th>\n",
       "      <th>CHANGE_YEAR</th>\n",
       "      <th>SURVEY_DATE</th>\n",
       "      <th>THICKNESS_CHANGE</th>\n",
       "      <th>VOLUME_CHANGE</th>\n",
       "      <th>LATITUDE</th>\n",
       "      <th>LONGITUDE</th>\n",
       "    </tr>\n",
       "  </thead>\n",
       "  <tbody>\n",
       "    <tr>\n",
       "      <th>0</th>\n",
       "      <td>2923</td>\n",
       "      <td>ADAMS</td>\n",
       "      <td>2013</td>\n",
       "      <td>20130228</td>\n",
       "      <td>5913.0</td>\n",
       "      <td>NaN</td>\n",
       "      <td>-43.32</td>\n",
       "      <td>170.720001</td>\n",
       "    </tr>\n",
       "    <tr>\n",
       "      <th>1</th>\n",
       "      <td>2923</td>\n",
       "      <td>ADAMS</td>\n",
       "      <td>2018</td>\n",
       "      <td>20180307</td>\n",
       "      <td>-14433.0</td>\n",
       "      <td>NaN</td>\n",
       "      <td>-43.32</td>\n",
       "      <td>170.720001</td>\n",
       "    </tr>\n",
       "    <tr>\n",
       "      <th>2</th>\n",
       "      <td>2923</td>\n",
       "      <td>ADAMS</td>\n",
       "      <td>2018</td>\n",
       "      <td>20180307</td>\n",
       "      <td>-13184.0</td>\n",
       "      <td>NaN</td>\n",
       "      <td>-43.32</td>\n",
       "      <td>170.720001</td>\n",
       "    </tr>\n",
       "    <tr>\n",
       "      <th>3</th>\n",
       "      <td>2923</td>\n",
       "      <td>ADAMS</td>\n",
       "      <td>2014</td>\n",
       "      <td>20140224</td>\n",
       "      <td>-7845.0</td>\n",
       "      <td>NaN</td>\n",
       "      <td>-43.32</td>\n",
       "      <td>170.720001</td>\n",
       "    </tr>\n",
       "    <tr>\n",
       "      <th>4</th>\n",
       "      <td>2923</td>\n",
       "      <td>ADAMS</td>\n",
       "      <td>2017</td>\n",
       "      <td>20170304</td>\n",
       "      <td>-7478.0</td>\n",
       "      <td>NaN</td>\n",
       "      <td>-43.32</td>\n",
       "      <td>170.720001</td>\n",
       "    </tr>\n",
       "  </tbody>\n",
       "</table>\n",
       "</div>"
      ],
      "text/plain": [
       "   WGMS_ID   NAME  CHANGE_YEAR  SURVEY_DATE  THICKNESS_CHANGE  VOLUME_CHANGE  \\\n",
       "0     2923  ADAMS         2013     20130228            5913.0            NaN   \n",
       "1     2923  ADAMS         2018     20180307          -14433.0            NaN   \n",
       "2     2923  ADAMS         2018     20180307          -13184.0            NaN   \n",
       "3     2923  ADAMS         2014     20140224           -7845.0            NaN   \n",
       "4     2923  ADAMS         2017     20170304           -7478.0            NaN   \n",
       "\n",
       "   LATITUDE   LONGITUDE  \n",
       "0    -43.32  170.720001  \n",
       "1    -43.32  170.720001  \n",
       "2    -43.32  170.720001  \n",
       "3    -43.32  170.720001  \n",
       "4    -43.32  170.720001  "
      ]
     },
     "execution_count": 15,
     "metadata": {},
     "output_type": "execute_result"
    }
   ],
   "source": [
    "merge_1.head()"
   ]
  },
  {
   "cell_type": "code",
   "execution_count": null,
   "id": "5ce41cbc-e5fe-467f-813e-e92068cb2566",
   "metadata": {},
   "outputs": [],
   "source": []
  },
  {
   "cell_type": "code",
   "execution_count": null,
   "id": "56f634e5-4edf-432e-8ebc-b9fa80336b3d",
   "metadata": {},
   "outputs": [],
   "source": []
  },
  {
   "cell_type": "markdown",
   "id": "8e26db0c-dea0-4074-be58-0cc27218747f",
   "metadata": {},
   "source": [
    "# GLIMS"
   ]
  },
  {
   "cell_type": "code",
   "execution_count": 16,
   "id": "511679bb-542c-4842-8b10-1167ea3f3c0b",
   "metadata": {},
   "outputs": [],
   "source": [
    "gla_glims = gpd.read_file('data/glims/nz_glaciers_polygons.shp')"
   ]
  },
  {
   "cell_type": "code",
   "execution_count": 17,
   "id": "3e3f0879-e334-4e45-927f-b861b0fb394d",
   "metadata": {},
   "outputs": [
    {
     "name": "stdout",
     "output_type": "stream",
     "text": [
      "<class 'geopandas.geodataframe.GeoDataFrame'>\n",
      "RangeIndex: 9032 entries, 0 to 9031\n",
      "Data columns (total 39 columns):\n",
      " #   Column      Non-Null Count  Dtype   \n",
      "---  ------      --------------  -----   \n",
      " 0   line_type   9032 non-null   object  \n",
      " 1   anlys_id    9032 non-null   float64 \n",
      " 2   glac_id     9032 non-null   object  \n",
      " 3   anlys_time  9032 non-null   object  \n",
      " 4   area        9032 non-null   float64 \n",
      " 5   db_area     9032 non-null   float64 \n",
      " 6   width       9032 non-null   float64 \n",
      " 7   length      9032 non-null   float64 \n",
      " 8   primeclass  9032 non-null   float64 \n",
      " 9   min_elev    9032 non-null   float64 \n",
      " 10  mean_elev   9032 non-null   float64 \n",
      " 11  max_elev    9032 non-null   float64 \n",
      " 12  src_date    9032 non-null   object  \n",
      " 13  rec_status  9032 non-null   object  \n",
      " 14  glac_name   9032 non-null   object  \n",
      " 15  wgms_id     9032 non-null   object  \n",
      " 16  local_id    9032 non-null   object  \n",
      " 17  glac_stat   9032 non-null   object  \n",
      " 18  gone_date   9032 non-null   object  \n",
      " 19  gone_dt_e   9032 non-null   float64 \n",
      " 20  subm_id     9032 non-null   float64 \n",
      " 21  release_dt  9032 non-null   object  \n",
      " 22  proc_desc   9032 non-null   object  \n",
      " 23  rc_id       9032 non-null   float64 \n",
      " 24  geog_area   9032 non-null   object  \n",
      " 25  chief_affl  9032 non-null   object  \n",
      " 26  conn_lvl    9032 non-null   float64 \n",
      " 27  surge_type  9032 non-null   float64 \n",
      " 28  term_type   9032 non-null   float64 \n",
      " 29  gtng_o1reg  9032 non-null   float64 \n",
      " 30  gtng_o2reg  9032 non-null   float64 \n",
      " 31  rgi_gl_typ  9032 non-null   object  \n",
      " 32  loc_unc_x   9032 non-null   float64 \n",
      " 33  loc_unc_y   9032 non-null   float64 \n",
      " 34  glob_unc_x  9032 non-null   float64 \n",
      " 35  glob_unc_y  9032 non-null   float64 \n",
      " 36  submitters  9032 non-null   object  \n",
      " 37  analysts    9032 non-null   object  \n",
      " 38  geometry    9032 non-null   geometry\n",
      "dtypes: float64(21), geometry(1), object(17)\n",
      "memory usage: 2.7+ MB\n"
     ]
    }
   ],
   "source": [
    "gla_glims.info()"
   ]
  },
  {
   "cell_type": "code",
   "execution_count": 18,
   "id": "f3760e3b-90d4-4b82-99ef-79ed1d12734e",
   "metadata": {},
   "outputs": [
    {
     "data": {
      "text/plain": [
       "src_date\n",
       "2019-03-28T00:00:00    4077\n",
       "2016-03-11T00:00:00    3950\n",
       "2009-02-17T22:38:29     604\n",
       "1600-09-09T00:00:00     401\n",
       "Name: count, dtype: int64"
      ]
     },
     "execution_count": 18,
     "metadata": {},
     "output_type": "execute_result"
    }
   ],
   "source": [
    "gla_glims[\"src_date\"].value_counts()"
   ]
  },
  {
   "cell_type": "code",
   "execution_count": 19,
   "id": "d2c42a7d-3fb5-4a39-a6d6-aa45f6c5f47d",
   "metadata": {},
   "outputs": [
    {
     "data": {
      "text/html": [
       "<div>\n",
       "<style scoped>\n",
       "    .dataframe tbody tr th:only-of-type {\n",
       "        vertical-align: middle;\n",
       "    }\n",
       "\n",
       "    .dataframe tbody tr th {\n",
       "        vertical-align: top;\n",
       "    }\n",
       "\n",
       "    .dataframe thead th {\n",
       "        text-align: right;\n",
       "    }\n",
       "</style>\n",
       "<table border=\"1\" class=\"dataframe\">\n",
       "  <thead>\n",
       "    <tr style=\"text-align: right;\">\n",
       "      <th></th>\n",
       "      <th>glac_id</th>\n",
       "      <th>min_elev</th>\n",
       "      <th>src_date</th>\n",
       "      <th>geometry</th>\n",
       "    </tr>\n",
       "  </thead>\n",
       "  <tbody>\n",
       "    <tr>\n",
       "      <th>0</th>\n",
       "      <td>G170910E43118S</td>\n",
       "      <td>0.0</td>\n",
       "      <td>1600-09-09T00:00:00</td>\n",
       "      <td>POLYGON Z ((170.91298 -43.11761 0.00000, 170.9...</td>\n",
       "    </tr>\n",
       "    <tr>\n",
       "      <th>1</th>\n",
       "      <td>G172719E42080S</td>\n",
       "      <td>0.0</td>\n",
       "      <td>1600-09-09T00:00:00</td>\n",
       "      <td>POLYGON Z ((172.72521 -42.07704 0.00000, 172.7...</td>\n",
       "    </tr>\n",
       "    <tr>\n",
       "      <th>2</th>\n",
       "      <td>G169791E43889S</td>\n",
       "      <td>0.0</td>\n",
       "      <td>1600-09-09T00:00:00</td>\n",
       "      <td>POLYGON Z ((169.78505 -43.88165 0.00000, 169.7...</td>\n",
       "    </tr>\n",
       "    <tr>\n",
       "      <th>3</th>\n",
       "      <td>G168618E44432S</td>\n",
       "      <td>0.0</td>\n",
       "      <td>1600-09-09T00:00:00</td>\n",
       "      <td>POLYGON Z ((168.62173 -44.43379 0.00000, 168.6...</td>\n",
       "    </tr>\n",
       "    <tr>\n",
       "      <th>4</th>\n",
       "      <td>G170012E43673S</td>\n",
       "      <td>0.0</td>\n",
       "      <td>2009-02-17T22:38:29</td>\n",
       "      <td>POLYGON Z ((170.00462 -43.66741 0.00000, 170.0...</td>\n",
       "    </tr>\n",
       "    <tr>\n",
       "      <th>...</th>\n",
       "      <td>...</td>\n",
       "      <td>...</td>\n",
       "      <td>...</td>\n",
       "      <td>...</td>\n",
       "    </tr>\n",
       "    <tr>\n",
       "      <th>9027</th>\n",
       "      <td>G171135E43078S</td>\n",
       "      <td>0.0</td>\n",
       "      <td>1600-09-09T00:00:00</td>\n",
       "      <td>POLYGON Z ((171.13377 -43.07421 0.00000, 171.1...</td>\n",
       "    </tr>\n",
       "    <tr>\n",
       "      <th>9028</th>\n",
       "      <td>G170930E43172S</td>\n",
       "      <td>0.0</td>\n",
       "      <td>1600-09-09T00:00:00</td>\n",
       "      <td>POLYGON Z ((170.93579 -43.18184 0.00000, 170.9...</td>\n",
       "    </tr>\n",
       "    <tr>\n",
       "      <th>9029</th>\n",
       "      <td>G169768E43774S</td>\n",
       "      <td>0.0</td>\n",
       "      <td>1600-09-09T00:00:00</td>\n",
       "      <td>POLYGON Z ((169.75320 -43.77087 0.00000, 169.7...</td>\n",
       "    </tr>\n",
       "    <tr>\n",
       "      <th>9030</th>\n",
       "      <td>G168427E44498S</td>\n",
       "      <td>0.0</td>\n",
       "      <td>1600-09-09T00:00:00</td>\n",
       "      <td>POLYGON Z ((168.43220 -44.49552 0.00000, 168.4...</td>\n",
       "    </tr>\n",
       "    <tr>\n",
       "      <th>9031</th>\n",
       "      <td>G168412E44499S</td>\n",
       "      <td>0.0</td>\n",
       "      <td>1600-09-09T00:00:00</td>\n",
       "      <td>POLYGON Z ((168.42216 -44.49611 0.00000, 168.4...</td>\n",
       "    </tr>\n",
       "  </tbody>\n",
       "</table>\n",
       "<p>9032 rows × 4 columns</p>\n",
       "</div>"
      ],
      "text/plain": [
       "             glac_id  min_elev             src_date  \\\n",
       "0     G170910E43118S       0.0  1600-09-09T00:00:00   \n",
       "1     G172719E42080S       0.0  1600-09-09T00:00:00   \n",
       "2     G169791E43889S       0.0  1600-09-09T00:00:00   \n",
       "3     G168618E44432S       0.0  1600-09-09T00:00:00   \n",
       "4     G170012E43673S       0.0  2009-02-17T22:38:29   \n",
       "...              ...       ...                  ...   \n",
       "9027  G171135E43078S       0.0  1600-09-09T00:00:00   \n",
       "9028  G170930E43172S       0.0  1600-09-09T00:00:00   \n",
       "9029  G169768E43774S       0.0  1600-09-09T00:00:00   \n",
       "9030  G168427E44498S       0.0  1600-09-09T00:00:00   \n",
       "9031  G168412E44499S       0.0  1600-09-09T00:00:00   \n",
       "\n",
       "                                               geometry  \n",
       "0     POLYGON Z ((170.91298 -43.11761 0.00000, 170.9...  \n",
       "1     POLYGON Z ((172.72521 -42.07704 0.00000, 172.7...  \n",
       "2     POLYGON Z ((169.78505 -43.88165 0.00000, 169.7...  \n",
       "3     POLYGON Z ((168.62173 -44.43379 0.00000, 168.6...  \n",
       "4     POLYGON Z ((170.00462 -43.66741 0.00000, 170.0...  \n",
       "...                                                 ...  \n",
       "9027  POLYGON Z ((171.13377 -43.07421 0.00000, 171.1...  \n",
       "9028  POLYGON Z ((170.93579 -43.18184 0.00000, 170.9...  \n",
       "9029  POLYGON Z ((169.75320 -43.77087 0.00000, 169.7...  \n",
       "9030  POLYGON Z ((168.43220 -44.49552 0.00000, 168.4...  \n",
       "9031  POLYGON Z ((168.42216 -44.49611 0.00000, 168.4...  \n",
       "\n",
       "[9032 rows x 4 columns]"
      ]
     },
     "execution_count": 19,
     "metadata": {},
     "output_type": "execute_result"
    }
   ],
   "source": [
    "columns_to_drop = [\n",
    "    'wgms_id', 'local_id', 'glac_stat', 'gone_date', 'gone_dt_e',\n",
    "    'subm_id', 'rc_id', 'chief_affl', 'conn_lvl', 'surge_type',\n",
    "    'term_type', 'gtng_o1reg', 'gtng_o2reg', 'rgi_gl_typ', 'loc_unc_x',\n",
    "    'loc_unc_y', 'glob_unc_x', 'glob_unc_y', 'submitters', 'analysts',\n",
    "    'mean_elev', 'max_elev', 'width', 'length', 'primeclass',\n",
    "    'rec_status', 'proc_desc',\n",
    "    'anlys_id', 'anlys_time', 'glac_name', 'release_dt', 'geog_area',\n",
    "    'line_type', 'area', 'db_area'\n",
    "]\n",
    "gla_glims_cleaned = gla_glims.drop(columns=columns_to_drop)\n",
    "gla_glims_cleaned"
   ]
  },
  {
   "cell_type": "code",
   "execution_count": 20,
   "id": "0143a80a-09c0-4226-8b5f-cc7ce7fa572f",
   "metadata": {},
   "outputs": [
    {
     "name": "stdout",
     "output_type": "stream",
     "text": [
      "<class 'geopandas.geodataframe.GeoDataFrame'>\n",
      "RangeIndex: 9032 entries, 0 to 9031\n",
      "Data columns (total 4 columns):\n",
      " #   Column    Non-Null Count  Dtype   \n",
      "---  ------    --------------  -----   \n",
      " 0   glac_id   9032 non-null   object  \n",
      " 1   min_elev  9032 non-null   float64 \n",
      " 2   src_date  9032 non-null   object  \n",
      " 3   geometry  9032 non-null   geometry\n",
      "dtypes: float64(1), geometry(1), object(2)\n",
      "memory usage: 282.4+ KB\n"
     ]
    }
   ],
   "source": [
    "gla_glims_cleaned.info()"
   ]
  },
  {
   "cell_type": "code",
   "execution_count": 21,
   "id": "9c1fbdd2-d55c-4b8a-85b1-916433af54d2",
   "metadata": {},
   "outputs": [
    {
     "data": {
      "text/plain": [
       "min_elev\n",
       "0.0       5082\n",
       "799.0      107\n",
       "594.0       36\n",
       "1080.0      29\n",
       "917.0       25\n",
       "          ... \n",
       "1672.0       1\n",
       "1405.0       1\n",
       "1269.0       1\n",
       "1712.0       1\n",
       "2203.0       1\n",
       "Name: count, Length: 1051, dtype: int64"
      ]
     },
     "execution_count": 21,
     "metadata": {},
     "output_type": "execute_result"
    }
   ],
   "source": [
    "gla_glims_cleaned['min_elev'].value_counts()"
   ]
  },
  {
   "cell_type": "code",
   "execution_count": 22,
   "id": "ad07f221-55da-4ba1-bfde-7c4cd8525a41",
   "metadata": {},
   "outputs": [
    {
     "data": {
      "text/plain": [
       "<Geographic 2D CRS: EPSG:4326>\n",
       "Name: WGS 84\n",
       "Axis Info [ellipsoidal]:\n",
       "- Lat[north]: Geodetic latitude (degree)\n",
       "- Lon[east]: Geodetic longitude (degree)\n",
       "Area of Use:\n",
       "- name: World.\n",
       "- bounds: (-180.0, -90.0, 180.0, 90.0)\n",
       "Datum: World Geodetic System 1984 ensemble\n",
       "- Ellipsoid: WGS 84\n",
       "- Prime Meridian: Greenwich"
      ]
     },
     "execution_count": 22,
     "metadata": {},
     "output_type": "execute_result"
    }
   ],
   "source": [
    "gla_glims_cleaned.crs"
   ]
  },
  {
   "cell_type": "code",
   "execution_count": 23,
   "id": "06897816-2bd9-4fc9-b76d-cfd0f7788d63",
   "metadata": {},
   "outputs": [],
   "source": [
    "# gla_glims_cleaned[\"year\"] = gla_glims_cleaned['src_date'].str[:4].astype(int)\n",
    "# gla_glims_cleaned[\"month\"] = gla_glims_cleaned['src_date'].str[5:7].astype(int)\n",
    "# gla_glims_cleaned[\"day\"] = gla_glims_cleaned['src_date'].str[8:10].astype(int)\n",
    "# gla_glims_cleaned = gla_glims_cleaned.drop([\"src_date\"], axis=1)\n",
    "# gla_glims_cleaned.head()"
   ]
  },
  {
   "cell_type": "code",
   "execution_count": null,
   "id": "366231c5-d94a-419a-b19f-6169c7a87d69",
   "metadata": {},
   "outputs": [],
   "source": []
  },
  {
   "cell_type": "markdown",
   "id": "7acbd315-6d3d-417b-83b1-2240e9558164",
   "metadata": {},
   "source": [
    "# Spatial Join"
   ]
  },
  {
   "cell_type": "code",
   "execution_count": 24,
   "id": "ad7d4c4b-4cd4-4507-849f-f3e3ca4a481b",
   "metadata": {},
   "outputs": [
    {
     "name": "stdout",
     "output_type": "stream",
     "text": [
      "<class 'pandas.core.frame.DataFrame'>\n",
      "RangeIndex: 45643 entries, 0 to 45642\n",
      "Data columns (total 8 columns):\n",
      " #   Column            Non-Null Count  Dtype  \n",
      "---  ------            --------------  -----  \n",
      " 0   WGMS_ID           45643 non-null  int64  \n",
      " 1   NAME              45643 non-null  object \n",
      " 2   CHANGE_YEAR       45643 non-null  int64  \n",
      " 3   SURVEY_DATE       45643 non-null  int64  \n",
      " 4   THICKNESS_CHANGE  45643 non-null  float64\n",
      " 5   VOLUME_CHANGE     13790 non-null  float64\n",
      " 6   LATITUDE          45643 non-null  float64\n",
      " 7   LONGITUDE         45643 non-null  float64\n",
      "dtypes: float64(4), int64(3), object(1)\n",
      "memory usage: 2.8+ MB\n"
     ]
    }
   ],
   "source": [
    "merge_1.info()"
   ]
  },
  {
   "cell_type": "code",
   "execution_count": 25,
   "id": "132468a2-7384-4613-8b34-126a758b86f4",
   "metadata": {},
   "outputs": [
    {
     "name": "stdout",
     "output_type": "stream",
     "text": [
      "<class 'geopandas.geodataframe.GeoDataFrame'>\n",
      "RangeIndex: 45643 entries, 0 to 45642\n",
      "Data columns (total 9 columns):\n",
      " #   Column            Non-Null Count  Dtype   \n",
      "---  ------            --------------  -----   \n",
      " 0   WGMS_ID           45643 non-null  int64   \n",
      " 1   NAME              45643 non-null  object  \n",
      " 2   CHANGE_YEAR       45643 non-null  int64   \n",
      " 3   SURVEY_DATE       45643 non-null  int64   \n",
      " 4   THICKNESS_CHANGE  45643 non-null  float64 \n",
      " 5   VOLUME_CHANGE     13790 non-null  float64 \n",
      " 6   LATITUDE          45643 non-null  float64 \n",
      " 7   LONGITUDE         45643 non-null  float64 \n",
      " 8   geometry          45643 non-null  geometry\n",
      "dtypes: float64(4), geometry(1), int64(3), object(1)\n",
      "memory usage: 3.1+ MB\n"
     ]
    }
   ],
   "source": [
    "gdf_wgms = (\n",
    "    gpd.GeoDataFrame(\n",
    "        merge_1, geometry=gpd.points_from_xy(merge_1.LONGITUDE, merge_1.LATITUDE), crs=\"EPSG:4326\"\n",
    "    )\n",
    ")\n",
    "\n",
    "gdf_wgms.info()"
   ]
  },
  {
   "cell_type": "code",
   "execution_count": 26,
   "id": "9a0b7f0c-9117-4ede-8570-b0e7d4b71461",
   "metadata": {},
   "outputs": [
    {
     "data": {
      "text/plain": [
       "<Geographic 2D CRS: EPSG:4326>\n",
       "Name: WGS 84\n",
       "Axis Info [ellipsoidal]:\n",
       "- Lat[north]: Geodetic latitude (degree)\n",
       "- Lon[east]: Geodetic longitude (degree)\n",
       "Area of Use:\n",
       "- name: World.\n",
       "- bounds: (-180.0, -90.0, 180.0, 90.0)\n",
       "Datum: World Geodetic System 1984 ensemble\n",
       "- Ellipsoid: WGS 84\n",
       "- Prime Meridian: Greenwich"
      ]
     },
     "execution_count": 26,
     "metadata": {},
     "output_type": "execute_result"
    }
   ],
   "source": [
    "gdf_wgms.crs"
   ]
  },
  {
   "cell_type": "code",
   "execution_count": 38,
   "id": "e55ae2df-87d7-452f-b06f-01ec53700eb1",
   "metadata": {},
   "outputs": [],
   "source": [
    "# wgms is points, glims is polygon, so based on glims, put wgms on\n",
    "wgms_glims =  gla_glims_cleaned.sjoin(gdf_wgms, predicate=\"intersects\")"
   ]
  },
  {
   "cell_type": "code",
   "execution_count": 39,
   "id": "7a21544e-fce9-4b89-b93b-08998e530859",
   "metadata": {},
   "outputs": [],
   "source": [
    "# Drop volume change due to too many missing data\n",
    "wgms_glims = wgms_glims.drop(['index_right', 'VOLUME_CHANGE'], axis=1)\n",
    "wgms_glims = wgms_glims.reset_index(drop=True)"
   ]
  },
  {
   "cell_type": "code",
   "execution_count": 51,
   "id": "395bbe9b-3fc0-44e8-b80b-557fd22af07c",
   "metadata": {},
   "outputs": [],
   "source": [
    "wgms_glims_no_duplicate = wgms_glims.drop_duplicates()"
   ]
  },
  {
   "cell_type": "code",
   "execution_count": 54,
   "id": "ece642e5-1e6a-443d-af1a-9982aa6c8ae4",
   "metadata": {},
   "outputs": [],
   "source": [
    "wgms_glims_2004 = wgms_glims_no_duplicate[wgms_glims_no_duplicate['CHANGE_YEAR'] == 2004]"
   ]
  },
  {
   "cell_type": "code",
   "execution_count": 65,
   "id": "380148fc-8822-4a58-9832-7c883483c3cd",
   "metadata": {},
   "outputs": [
    {
     "data": {
      "text/plain": [
       "2826"
      ]
     },
     "execution_count": 65,
     "metadata": {},
     "output_type": "execute_result"
    }
   ],
   "source": [
    "len(wgms_glims_2004)"
   ]
  },
  {
   "cell_type": "code",
   "execution_count": 69,
   "id": "610c0026-6ed4-499b-bd51-608a4c72aa52",
   "metadata": {},
   "outputs": [],
   "source": [
    "wgms_glims_2004.to_file(\"data_cleaned/wgms_glims_2004.gpkg\")"
   ]
  },
  {
   "cell_type": "code",
   "execution_count": 56,
   "id": "c9ef2fcd-6714-4ecd-aeef-11d5278c279d",
   "metadata": {},
   "outputs": [],
   "source": [
    "wgms_glims_2009 = wgms_glims_no_duplicate[wgms_glims_no_duplicate['CHANGE_YEAR'] == 2009]"
   ]
  },
  {
   "cell_type": "code",
   "execution_count": 66,
   "id": "da403235-7150-4345-8f6e-2a12707d1abf",
   "metadata": {},
   "outputs": [
    {
     "data": {
      "text/plain": [
       "3001"
      ]
     },
     "execution_count": 66,
     "metadata": {},
     "output_type": "execute_result"
    }
   ],
   "source": [
    "len(wgms_glims_2009)"
   ]
  },
  {
   "cell_type": "code",
   "execution_count": 70,
   "id": "3e9fdc46-49b6-439d-904c-a388c9fe7f67",
   "metadata": {},
   "outputs": [],
   "source": [
    "wgms_glims_2009.to_file(\"data_cleaned/wgms_glims_2009.gpkg\")"
   ]
  },
  {
   "cell_type": "code",
   "execution_count": 58,
   "id": "7988ab76-4277-4d8b-85e0-48168d6dbfcd",
   "metadata": {},
   "outputs": [],
   "source": [
    "wgms_glims_2014 = wgms_glims_no_duplicate[wgms_glims_no_duplicate['CHANGE_YEAR'] == 2014]"
   ]
  },
  {
   "cell_type": "code",
   "execution_count": 67,
   "id": "d49fc2d4-54a1-4ea8-92cf-269baa10ec31",
   "metadata": {},
   "outputs": [
    {
     "data": {
      "text/plain": [
       "11109"
      ]
     },
     "execution_count": 67,
     "metadata": {},
     "output_type": "execute_result"
    }
   ],
   "source": [
    "len(wgms_glims_2014)"
   ]
  },
  {
   "cell_type": "code",
   "execution_count": 71,
   "id": "eb829c3e-c638-41ad-8c9b-295323f0d76c",
   "metadata": {},
   "outputs": [],
   "source": [
    "wgms_glims_2014.to_file(\"data_cleaned/wgms_glims_2014.gpkg\")"
   ]
  },
  {
   "cell_type": "code",
   "execution_count": 59,
   "id": "78ee0232-8dd9-490c-a94d-f7d29114dddd",
   "metadata": {},
   "outputs": [],
   "source": [
    "wgms_glims_2019 = wgms_glims_no_duplicate[wgms_glims_no_duplicate['CHANGE_YEAR'] == 2019]"
   ]
  },
  {
   "cell_type": "code",
   "execution_count": 68,
   "id": "1ef080a0-34c9-469a-9d9b-750c7167dc44",
   "metadata": {},
   "outputs": [
    {
     "data": {
      "text/plain": [
       "5649"
      ]
     },
     "execution_count": 68,
     "metadata": {},
     "output_type": "execute_result"
    }
   ],
   "source": [
    "len(wgms_glims_2019)"
   ]
  },
  {
   "cell_type": "code",
   "execution_count": 72,
   "id": "450070ee-bb09-40f9-b532-95a03b1a9224",
   "metadata": {},
   "outputs": [],
   "source": [
    "wgms_glims_2019.to_file(\"data_cleaned/wgms_glims_2019.gpkg\")"
   ]
  },
  {
   "cell_type": "code",
   "execution_count": null,
   "id": "537e0d5b-69a9-4ca3-951a-c2791ef9a529",
   "metadata": {},
   "outputs": [],
   "source": []
  }
 ],
 "metadata": {
  "kernelspec": {
   "display_name": "Python 3 (ipykernel)",
   "language": "python",
   "name": "python3"
  },
  "language_info": {
   "codemirror_mode": {
    "name": "ipython",
    "version": 3
   },
   "file_extension": ".py",
   "mimetype": "text/x-python",
   "name": "python",
   "nbconvert_exporter": "python",
   "pygments_lexer": "ipython3",
   "version": "3.9.19"
  }
 },
 "nbformat": 4,
 "nbformat_minor": 5
}
